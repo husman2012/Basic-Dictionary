{
 "cells": [
  {
   "cell_type": "code",
   "execution_count": null,
   "metadata": {},
   "outputs": [],
   "source": [
    "import json\n",
    "import difflib\n",
    "from IPython.display import clear_output\n",
    "data = json.load(open(\"data.json\"))\n",
    "\n",
    "def similar(a, b):\n",
    "    return SequenceMatcher(None, a, b).ratio()\n",
    "\n",
    "def translate(word):\n",
    "    return data[word]\n",
    "\n",
    "def get_word():\n",
    "    word = input(\"Please Enter a Word:\")\n",
    "    clear_output()\n",
    "    return word\n",
    "\n",
    "while(True):\n",
    "    word = get_word().lower()\n",
    "    \n",
    "    if word in data:\n",
    "        for definition in data[word]:\n",
    "            print(definition)\n",
    "            print('\\n')\n",
    "    else:\n",
    "        suggestions = difflib.get_close_matches(word, data.keys(),n = 1, cutoff = 0.7)\n",
    "        if len(suggestions) == 0:\n",
    "            print(\"Word not recognized\")\n",
    "        else:\n",
    "            print(\"Word not recognized. Did you mean:\")\n",
    "            for word in suggestions:\n",
    "                print(word)\n",
    "            \n",
    "\n"
   ]
  },
  {
   "cell_type": "code",
   "execution_count": null,
   "metadata": {
    "collapsed": true
   },
   "outputs": [],
   "source": []
  },
  {
   "cell_type": "code",
   "execution_count": null,
   "metadata": {},
   "outputs": [],
   "source": []
  },
  {
   "cell_type": "code",
   "execution_count": null,
   "metadata": {
    "collapsed": true
   },
   "outputs": [],
   "source": []
  }
 ],
 "metadata": {
  "kernelspec": {
   "display_name": "Python 3",
   "language": "python",
   "name": "python3"
  },
  "language_info": {
   "codemirror_mode": {
    "name": "ipython",
    "version": 3
   },
   "file_extension": ".py",
   "mimetype": "text/x-python",
   "name": "python",
   "nbconvert_exporter": "python",
   "pygments_lexer": "ipython3",
   "version": "3.6.5"
  }
 },
 "nbformat": 4,
 "nbformat_minor": 2
}
