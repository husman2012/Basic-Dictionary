{
 "cells": [
  {
   "cell_type": "code",
   "execution_count": null,
   "metadata": {},
   "outputs": [
    {
     "name": "stdout",
     "output_type": "stream",
     "text": [
      "Definition of  kvas :\n",
      "\n",
      "\n",
      "Traditional Eastern European beverage made from fermented bread, which has a very low alcohol content.\n",
      "\n",
      "\n"
     ]
    }
   ],
   "source": [
    "import json\n",
    "import difflib\n",
    "from IPython.display import clear_output\n",
    "data = json.load(open(\"data.json\"))\n",
    "\n",
    "def similar(a, b):\n",
    "    return SequenceMatcher(None, a, b).ratio()\n",
    "\n",
    "def translate(word):\n",
    "    return data[word]\n",
    "\n",
    "def get_word():\n",
    "    word = input(\"Please Enter a Word:\")\n",
    "    clear_output()\n",
    "    return word\n",
    "\n",
    "def get_definition(word):\n",
    "    clear_output()\n",
    "    print(\"Definition of \", word, \":\")\n",
    "    print('\\n')\n",
    "    if word in data:\n",
    "        for definition in data[word]:\n",
    "            print(definition)\n",
    "            print('\\n')\n",
    "            \n",
    "    elif word.lower() in data:\n",
    "        for definition in data[word.lower()]:\n",
    "            print(definition)\n",
    "            print('\\n')\n",
    "    else:\n",
    "        clear_output()\n",
    "        print_suggestions(word)\n",
    "    return word\n",
    "\n",
    "def print_suggestions(word):\n",
    "    suggestion = difflib.get_close_matches(word, data.keys(),n = 1, cutoff = 0.7)\n",
    "    \n",
    "    if len(suggestion) == 0:\n",
    "        print(\"Word not recognized\")\n",
    "            \n",
    "    else:\n",
    "        print(\"Word not recognized. Did you mean:\")\n",
    "            \n",
    "        for word in suggestion:\n",
    "            print(word)\n",
    "        user_input = input(\"Type Y or N:\").lower()\n",
    "        if user_input[0]== 'y':\n",
    "            get_definition(suggestion[0])\n",
    "        elif user_input[0] == 'n':\n",
    "            program_start()\n",
    "        else:\n",
    "            clear_output()\n",
    "            print(\"Input not Recognized\")\n",
    "            print_suggestions(word)\n",
    "                \n",
    "def program_start():\n",
    "    clear_output()\n",
    "    while(True):\n",
    "        word = get_word()\n",
    "        get_definition(word)\n",
    "\n",
    "            \n",
    "program_start()\n"
   ]
  },
  {
   "cell_type": "code",
   "execution_count": null,
   "metadata": {
    "collapsed": true
   },
   "outputs": [],
   "source": []
  },
  {
   "cell_type": "code",
   "execution_count": null,
   "metadata": {
    "collapsed": true
   },
   "outputs": [],
   "source": []
  },
  {
   "cell_type": "code",
   "execution_count": null,
   "metadata": {
    "collapsed": true
   },
   "outputs": [],
   "source": []
  },
  {
   "cell_type": "code",
   "execution_count": null,
   "metadata": {
    "collapsed": true
   },
   "outputs": [],
   "source": []
  }
 ],
 "metadata": {
  "kernelspec": {
   "display_name": "Python 3",
   "language": "python",
   "name": "python3"
  },
  "language_info": {
   "codemirror_mode": {
    "name": "ipython",
    "version": 3
   },
   "file_extension": ".py",
   "mimetype": "text/x-python",
   "name": "python",
   "nbconvert_exporter": "python",
   "pygments_lexer": "ipython3",
   "version": "3.6.5"
  }
 },
 "nbformat": 4,
 "nbformat_minor": 2
}
